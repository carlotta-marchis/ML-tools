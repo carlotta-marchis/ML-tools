{
 "cells": [
  {
   "cell_type": "markdown",
   "metadata": {},
   "source": [
    "# Performance measures for binary classification "
   ]
  },
  {
   "cell_type": "markdown",
   "metadata": {},
   "source": [
    "## Accuracy "
   ]
  },
  {
   "cell_type": "markdown",
   "metadata": {},
   "source": [
    "**Accuracy** is a mere proportion of the correct prediction of your algorithm. It can be calculated using the `accuracy_score` function in scikit-learn:"
   ]
  },
  {
   "cell_type": "code",
   "execution_count": 151,
   "metadata": {},
   "outputs": [
    {
     "name": "stderr",
     "output_type": "stream",
     "text": [
      "C:\\Users\\Carlotta\\Anaconda3\\lib\\site-packages\\pandas\\core\\indexing.py:543: SettingWithCopyWarning: \n",
      "A value is trying to be set on a copy of a slice from a DataFrame.\n",
      "Try using .loc[row_indexer,col_indexer] = value instead\n",
      "\n",
      "See the caveats in the documentation: http://pandas.pydata.org/pandas-docs/stable/indexing.html#indexing-view-versus-copy\n",
      "  self.obj[item] = s\n"
     ]
    },
    {
     "data": {
      "text/plain": [
       "0.757847533632287"
      ]
     },
     "execution_count": 151,
     "metadata": {},
     "output_type": "execute_result"
    }
   ],
   "source": [
    "from sklearn.datasets import load_iris\n",
    "from sklearn.model_selection import train_test_split, cross_val_score\n",
    "from sklearn.naive_bayes import GaussianNB\n",
    "from sklearn.metrics import accuracy_score\n",
    "\n",
    "# I will use the data from the Kaggle's Titanic competition\n",
    "data = pd.read_csv('../Kaggle competitions/Titanic/input/train.csv');\n",
    "data['Pclass'] = data['Pclass'].replace({1: 'first', 2: 'second', 3: 'third'});\n",
    "data= data[data['Embarked'].notnull()];\n",
    "y = data['Survived'];\n",
    "cols = ['Pclass', 'Sex', 'Age', 'SibSp', 'Parch', 'Fare', 'Embarked'];\n",
    "X = data[cols];\n",
    "X.loc[:, 'Age'] = X.loc[:, 'Age'].fillna(X['Age'].mean());\n",
    "X = pd.get_dummies(X, prefix_sep='_', drop_first=True);\n",
    "\n",
    "Xtrain, Xtest, ytrain, ytest = train_test_split(X, y);\n",
    "\n",
    "model = GaussianNB()\n",
    "y_model = model.fit(Xtrain, ytrain). predict(Xtest)\n",
    "\n",
    "accuracy1 = accuracy_score(ytest, y_model);\n",
    "accuracy1"
   ]
  },
  {
   "cell_type": "markdown",
   "metadata": {},
   "source": [
    "Accuracy is equal to"
   ]
  },
  {
   "cell_type": "code",
   "execution_count": 152,
   "metadata": {},
   "outputs": [
    {
     "data": {
      "text/plain": [
       "0.757847533632287"
      ]
     },
     "execution_count": 152,
     "metadata": {},
     "output_type": "execute_result"
    }
   ],
   "source": [
    "accuracy2 = (ytest == y_model).sum()/len(ytest)\n",
    "accuracy2"
   ]
  },
  {
   "cell_type": "code",
   "execution_count": 153,
   "metadata": {},
   "outputs": [
    {
     "data": {
      "text/plain": [
       "True"
      ]
     },
     "execution_count": 153,
     "metadata": {},
     "output_type": "execute_result"
    }
   ],
   "source": [
    "accuracy1 == accuracy2"
   ]
  },
  {
   "cell_type": "markdown",
   "metadata": {},
   "source": [
    "Using cross-validation one can calculate the mean accuracy score as follows:"
   ]
  },
  {
   "cell_type": "code",
   "execution_count": 154,
   "metadata": {},
   "outputs": [
    {
     "data": {
      "text/plain": [
       "0.792851531814611"
      ]
     },
     "execution_count": 154,
     "metadata": {},
     "output_type": "execute_result"
    }
   ],
   "source": [
    "scores = cross_val_score(model, Xtrain, ytrain, cv=5)\n",
    "scores.mean()"
   ]
  },
  {
   "cell_type": "markdown",
   "metadata": {},
   "source": [
    "## Confusion matrix "
   ]
  },
  {
   "cell_type": "markdown",
   "metadata": {},
   "source": [
    "A **confusion matrix** is a table that allows the visualization of a **supervised learning algorithm**. This allows a more detailed analysis then the **accuracy**, which is just a proportion of correct classification.\n",
    "\n",
    "|             |predicted negative|predicted positive |\n",
    "| ---         |:----------------:|:-----------------:|\n",
    "|**negative** |        TN        |        FP         |\n",
    "|**positive** |        FN        |        TP         |\n",
    "\n",
    "TN = True Negative, FN = False Negative, TP = True Positive, FP = False Positive\n",
    "\n",
    "With scikit-learn we can compute the confusion matric using the `confusion_matrix` function:"
   ]
  },
  {
   "cell_type": "code",
   "execution_count": 156,
   "metadata": {},
   "outputs": [
    {
     "data": {
      "text/plain": [
       "array([[113,  19],\n",
       "       [ 35,  56]], dtype=int64)"
      ]
     },
     "execution_count": 156,
     "metadata": {},
     "output_type": "execute_result"
    },
    {
     "data": {
      "image/png": "[encoded data removed]",
      "text/plain": [
       "<Figure size 432x288 with 1 Axes>"
      ]
     },
     "metadata": {},
     "output_type": "display_data"
    }
   ],
   "source": [
    "from sklearn.metrics import confusion_matrix\n",
    "import matplotlib.pyplot as plt\n",
    "import seaborn as sns; sns.set()\n",
    "\n",
    "confusion = confusion_matrix(ytest, y_model)\n",
    "sns.heatmap(confusion, annot=True, square = True, cbar=False, cmap='YlGnBu')\n",
    "plt.xlabel('predicted values', size=14)\n",
    "plt.ylabel('true values', size=14);"
   ]
  },
  {
   "cell_type": "markdown",
   "metadata": {},
   "source": [
    "### Function that plots the heatmap of the confusion matrix "
   ]
  },
  {
   "cell_type": "code",
   "execution_count": 166,
   "metadata": {},
   "outputs": [],
   "source": [
    "from sklearn.metrics import confusion_matrix\n",
    "import matplotlib.pyplot as plt\n",
    "import seaborn as sns; sns.set()\n",
    "\n",
    "def plot_confusion(ytest, y_model):\n",
    "    confusion = confusion_matrix(ytest, y_model)\n",
    "    sns.heatmap(confusion, annot=True, square = True, cbar=False, cmap='YlGnBu')\n",
    "    plt.xlabel('predicted values', size=14)\n",
    "    plt.ylabel('true values', size=14)\n",
    "    return plt.show()"
   ]
  },
  {
   "cell_type": "code",
   "execution_count": 167,
   "metadata": {},
   "outputs": [
    {
     "data": {
      "image/png": "[encoded data removed]",
      "text/plain": [
       "<Figure size 432x288 with 1 Axes>"
      ]
     },
     "metadata": {},
     "output_type": "display_data"
    }
   ],
   "source": [
    "plot_confusion(ytest, y_model)"
   ]
  },
  {
   "cell_type": "markdown",
   "metadata": {},
   "source": [
    "## Precision, recall and f1_score "
   ]
  },
  {
   "cell_type": "markdown",
   "metadata": {},
   "source": [
    "- **Precision** is the number of correctly classified positive examples divided by the number of examples labeled by the system as positive, i.e. it is the **class agreement of the data labels with the positive labels given by the classifier**:\n",
    "\n",
    "$$\n",
    "{\\rm precision} = \\dfrac{\\rm TP}{\\rm TP + FP}\n",
    "$$\n",
    "\n",
    "- **Recall** is the number of correctly classified positive examples divided by the number of positive examples in the data, i.e. it gives the **effectiveness of a classifier to identify positive labels**:\n",
    "\n",
    "$$\n",
    "{\\rm recall} = \\dfrac{\\rm TP}{\\rm TP + FN}\n",
    "$$\n",
    "\n",
    "- The **f1_score** is a combination of the above and gives **relations between data’s positive labels and those given by a classifier**: \n",
    "\n",
    "$$\n",
    "{\\rm f1} = \\dfrac{2 \\times ({\\rm precision} \\times {\\rm recall})}{\\rm precision + recall}\n",
    "$$"
   ]
  },
  {
   "cell_type": "code",
   "execution_count": 157,
   "metadata": {},
   "outputs": [
    {
     "name": "stdout",
     "output_type": "stream",
     "text": [
      "              precision    recall  f1-score   support\n",
      "\n",
      "        died       0.76      0.86      0.81       132\n",
      "    survived       0.75      0.62      0.67        91\n",
      "\n",
      "    accuracy                           0.76       223\n",
      "   macro avg       0.76      0.74      0.74       223\n",
      "weighted avg       0.76      0.76      0.75       223\n",
      "\n"
     ]
    }
   ],
   "source": [
    "from sklearn.metrics import classification_report\n",
    "import pandas as pd\n",
    "\n",
    "print(classification_report(ytest, y_model, target_names=['died', 'survived']))"
   ]
  },
  {
   "cell_type": "code",
   "execution_count": 159,
   "metadata": {},
   "outputs": [],
   "source": [
    "report = pd.DataFrame(classification_report(ytest, y_model, target_names=['died', 'survived'], output_dict=True))"
   ]
  },
  {
   "cell_type": "code",
   "execution_count": 160,
   "metadata": {},
   "outputs": [
    {
     "data": {
      "text/html": [
       "<div>\n",
       "<style scoped>\n",
       "    .dataframe tbody tr th:only-of-type {\n",
       "        vertical-align: middle;\n",
       "    }\n",
       "\n",
       "    .dataframe tbody tr th {\n",
       "        vertical-align: top;\n",
       "    }\n",
       "\n",
       "    .dataframe thead th {\n",
       "        text-align: right;\n",
       "    }\n",
       "</style>\n",
       "<table border=\"1\" class=\"dataframe\">\n",
       "  <thead>\n",
       "    <tr style=\"text-align: right;\">\n",
       "      <th></th>\n",
       "      <th>f1-score</th>\n",
       "      <th>precision</th>\n",
       "      <th>recall</th>\n",
       "      <th>support</th>\n",
       "    </tr>\n",
       "  </thead>\n",
       "  <tbody>\n",
       "    <tr>\n",
       "      <th>died</th>\n",
       "      <td>0.807143</td>\n",
       "      <td>0.763514</td>\n",
       "      <td>0.856061</td>\n",
       "      <td>132.000000</td>\n",
       "    </tr>\n",
       "    <tr>\n",
       "      <th>survived</th>\n",
       "      <td>0.674699</td>\n",
       "      <td>0.746667</td>\n",
       "      <td>0.615385</td>\n",
       "      <td>91.000000</td>\n",
       "    </tr>\n",
       "    <tr>\n",
       "      <th>accuracy</th>\n",
       "      <td>0.757848</td>\n",
       "      <td>0.757848</td>\n",
       "      <td>0.757848</td>\n",
       "      <td>0.757848</td>\n",
       "    </tr>\n",
       "    <tr>\n",
       "      <th>macro avg</th>\n",
       "      <td>0.740921</td>\n",
       "      <td>0.755090</td>\n",
       "      <td>0.735723</td>\n",
       "      <td>223.000000</td>\n",
       "    </tr>\n",
       "  </tbody>\n",
       "</table>\n",
       "</div>"
      ],
      "text/plain": [
       "           f1-score  precision    recall     support\n",
       "died       0.807143   0.763514  0.856061  132.000000\n",
       "survived   0.674699   0.746667  0.615385   91.000000\n",
       "accuracy   0.757848   0.757848  0.757848    0.757848\n",
       "macro avg  0.740921   0.755090  0.735723  223.000000"
      ]
     },
     "execution_count": 160,
     "metadata": {},
     "output_type": "execute_result"
    }
   ],
   "source": [
    "report.iloc[:, 0:4].T"
   ]
  },
  {
   "cell_type": "markdown",
   "metadata": {},
   "source": [
    "### Function that compares different algoritms "
   ]
  },
  {
   "cell_type": "markdown",
   "metadata": {},
   "source": [
    "Defining a function to compare algorithms"
   ]
  },
  {
   "cell_type": "code",
   "execution_count": 169,
   "metadata": {},
   "outputs": [],
   "source": [
    "import pandas as pd\n",
    "from sklearn.metrics import classification_report \n",
    "\n",
    "def compare_binary_classification(models, Xtrain, Xtest, ytrain, ytest):\n",
    "    \"\"\"Outputs a DataFrame with precision, recall and f1 score for each model(hypermarameters)\"\"\"\n",
    "    \n",
    "    report0 = pd.DataFrame() # Precision, recall, f1_score and support for label 0\n",
    "    report1 = pd.DataFrame() # Precision, recall, f1_score and support for label 1\n",
    "    \n",
    "    for name, model in models: # Models is a list of tuples ('model name', model(hyperparameters))\n",
    "        y_model = model.fit(Xtrain, ytrain).predict(Xtest)\n",
    "        report0[name] = pd.DataFrame(classification_report(ytest, y_model, output_dict=True)).iloc[:, 0]\n",
    "        report1[name] = pd.DataFrame(classification_report(ytest, y_model, output_dict=True)).iloc[:, 1]\n",
    "\n",
    "    return report0.T, report1.T"
   ]
  },
  {
   "cell_type": "code",
   "execution_count": 163,
   "metadata": {},
   "outputs": [],
   "source": [
    "from sklearn.naive_bayes import GaussianNB\n",
    "from sklearn.svm import SVC\n",
    "\n",
    "# Instantiate models\n",
    "models = []\n",
    "models.append(('NB', GaussianNB()))\n",
    "models.append(('SVM', SVC(kernel='linear', random_state=1)))\n",
    "\n",
    "r0, r1 = compare_binary_classification(models, Xtrain, Xtest, ytrain, ytest)"
   ]
  },
  {
   "cell_type": "code",
   "execution_count": 164,
   "metadata": {},
   "outputs": [
    {
     "data": {
      "text/html": [
       "<div>\n",
       "<style scoped>\n",
       "    .dataframe tbody tr th:only-of-type {\n",
       "        vertical-align: middle;\n",
       "    }\n",
       "\n",
       "    .dataframe tbody tr th {\n",
       "        vertical-align: top;\n",
       "    }\n",
       "\n",
       "    .dataframe thead th {\n",
       "        text-align: right;\n",
       "    }\n",
       "</style>\n",
       "<table border=\"1\" class=\"dataframe\">\n",
       "  <thead>\n",
       "    <tr style=\"text-align: right;\">\n",
       "      <th></th>\n",
       "      <th>f1-score</th>\n",
       "      <th>precision</th>\n",
       "      <th>recall</th>\n",
       "      <th>support</th>\n",
       "    </tr>\n",
       "  </thead>\n",
       "  <tbody>\n",
       "    <tr>\n",
       "      <th>NB</th>\n",
       "      <td>0.807143</td>\n",
       "      <td>0.763514</td>\n",
       "      <td>0.856061</td>\n",
       "      <td>132.0</td>\n",
       "    </tr>\n",
       "    <tr>\n",
       "      <th>SVM</th>\n",
       "      <td>0.842857</td>\n",
       "      <td>0.797297</td>\n",
       "      <td>0.893939</td>\n",
       "      <td>132.0</td>\n",
       "    </tr>\n",
       "  </tbody>\n",
       "</table>\n",
       "</div>"
      ],
      "text/plain": [
       "     f1-score  precision    recall  support\n",
       "NB   0.807143   0.763514  0.856061    132.0\n",
       "SVM  0.842857   0.797297  0.893939    132.0"
      ]
     },
     "execution_count": 164,
     "metadata": {},
     "output_type": "execute_result"
    }
   ],
   "source": [
    "r0"
   ]
  },
  {
   "cell_type": "code",
   "execution_count": 165,
   "metadata": {},
   "outputs": [
    {
     "data": {
      "text/html": [
       "<div>\n",
       "<style scoped>\n",
       "    .dataframe tbody tr th:only-of-type {\n",
       "        vertical-align: middle;\n",
       "    }\n",
       "\n",
       "    .dataframe tbody tr th {\n",
       "        vertical-align: top;\n",
       "    }\n",
       "\n",
       "    .dataframe thead th {\n",
       "        text-align: right;\n",
       "    }\n",
       "</style>\n",
       "<table border=\"1\" class=\"dataframe\">\n",
       "  <thead>\n",
       "    <tr style=\"text-align: right;\">\n",
       "      <th></th>\n",
       "      <th>f1-score</th>\n",
       "      <th>precision</th>\n",
       "      <th>recall</th>\n",
       "      <th>support</th>\n",
       "    </tr>\n",
       "  </thead>\n",
       "  <tbody>\n",
       "    <tr>\n",
       "      <th>NB</th>\n",
       "      <td>0.674699</td>\n",
       "      <td>0.746667</td>\n",
       "      <td>0.615385</td>\n",
       "      <td>91.0</td>\n",
       "    </tr>\n",
       "    <tr>\n",
       "      <th>SVM</th>\n",
       "      <td>0.734940</td>\n",
       "      <td>0.813333</td>\n",
       "      <td>0.670330</td>\n",
       "      <td>91.0</td>\n",
       "    </tr>\n",
       "  </tbody>\n",
       "</table>\n",
       "</div>"
      ],
      "text/plain": [
       "     f1-score  precision    recall  support\n",
       "NB   0.674699   0.746667  0.615385     91.0\n",
       "SVM  0.734940   0.813333  0.670330     91.0"
      ]
     },
     "execution_count": 165,
     "metadata": {},
     "output_type": "execute_result"
    }
   ],
   "source": [
    "r1"
   ]
  }
 ],
 "metadata": {
  "kernelspec": {
   "display_name": "Python 3",
   "language": "python",
   "name": "python3"
  },
  "language_info": {
   "codemirror_mode": {
    "name": "ipython",
    "version": 3
   },
   "file_extension": ".py",
   "mimetype": "text/x-python",
   "name": "python",
   "nbconvert_exporter": "python",
   "pygments_lexer": "ipython3",
   "version": "3.7.3"
  }
 },
 "nbformat": 4,
 "nbformat_minor": 2
}
